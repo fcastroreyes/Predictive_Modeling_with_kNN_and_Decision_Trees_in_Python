{
 "cells": [
  {
   "cell_type": "raw",
   "metadata": {},
   "source": [
    "---\n",
    "format:\n",
    "  html:\n",
    "    code fold: false\n",
    "    toc: true\n",
    "    toc_float: true\n",
    "    toc-title: Table Of Contents\n",
    "    toc-location: right\n",
    "    theme: sandstone\n",
    "    self-contained: true\n",
    "---"
   ]
  },
  {
   "cell_type": "code",
   "execution_count": 1,
   "metadata": {
    "id": "YAQTmUp7Dwsb"
   },
   "outputs": [],
   "source": [
    "import pandas as pd\n",
    "import numpy as np\n",
    "from plotnine import *\n",
    "\n",
    "from sklearn.pipeline import Pipeline\n",
    "from sklearn.neighbors import KNeighborsRegressor\n",
    "from sklearn.tree import DecisionTreeRegressor\n",
    "from sklearn.linear_model import LinearRegression\n",
    "\n",
    "from sklearn.compose import make_column_selector, ColumnTransformer\n",
    "from sklearn.preprocessing import StandardScaler, OneHotEncoder, PolynomialFeatures\n",
    "from sklearn.model_selection import train_test_split, cross_val_score\n",
    "from sklearn.metrics import r2_score, mean_squared_error\n",
    "from sklearn.model_selection import GridSearchCV"
   ]
  },
  {
   "cell_type": "code",
   "execution_count": 2,
   "metadata": {
    "colab": {
     "base_uri": "https://localhost:8080/"
    },
    "id": "k4OxjWbcD5_T",
    "outputId": "17bc1eb2-b995-49a3-cb54-eecf2fd0f8cf"
   },
   "outputs": [],
   "source": [
    "#!pip install palmerpenguins"
   ]
  },
  {
   "cell_type": "markdown",
   "metadata": {
    "id": "VeAOZxOcM0Vi"
   },
   "source": [
    "# Palmer Penguins Modeling\n",
    "\n",
    "Import the Palmer Penguins dataset and print out the first few rows.\n",
    "\n",
    "Suppose we want to predict `bill_depth_mm` using the other variables in the dataset.\n",
    "\n",
    "**Dummify** all variables that require this."
   ]
  },
  {
   "cell_type": "code",
   "execution_count": 3,
   "metadata": {
    "id": "qMSnLU-9EaJW"
   },
   "outputs": [],
   "source": [
    "from palmerpenguins import load_penguins"
   ]
  },
  {
   "cell_type": "code",
   "execution_count": 4,
   "metadata": {
    "colab": {
     "base_uri": "https://localhost:8080/",
     "height": 206
    },
    "id": "Bj_0VvPJMWyp",
    "outputId": "adde54a7-c6b0-4b50-9bb2-552f214d90f5"
   },
   "outputs": [
    {
     "data": {
      "text/html": [
       "<div>\n",
       "<style scoped>\n",
       "    .dataframe tbody tr th:only-of-type {\n",
       "        vertical-align: middle;\n",
       "    }\n",
       "\n",
       "    .dataframe tbody tr th {\n",
       "        vertical-align: top;\n",
       "    }\n",
       "\n",
       "    .dataframe thead th {\n",
       "        text-align: right;\n",
       "    }\n",
       "</style>\n",
       "<table border=\"1\" class=\"dataframe\">\n",
       "  <thead>\n",
       "    <tr style=\"text-align: right;\">\n",
       "      <th></th>\n",
       "      <th>species</th>\n",
       "      <th>island</th>\n",
       "      <th>bill_length_mm</th>\n",
       "      <th>bill_depth_mm</th>\n",
       "      <th>flipper_length_mm</th>\n",
       "      <th>body_mass_g</th>\n",
       "      <th>sex</th>\n",
       "      <th>year</th>\n",
       "    </tr>\n",
       "  </thead>\n",
       "  <tbody>\n",
       "    <tr>\n",
       "      <th>0</th>\n",
       "      <td>Adelie</td>\n",
       "      <td>Torgersen</td>\n",
       "      <td>39.1</td>\n",
       "      <td>18.7</td>\n",
       "      <td>181.0</td>\n",
       "      <td>3750.0</td>\n",
       "      <td>male</td>\n",
       "      <td>2007</td>\n",
       "    </tr>\n",
       "    <tr>\n",
       "      <th>1</th>\n",
       "      <td>Adelie</td>\n",
       "      <td>Torgersen</td>\n",
       "      <td>39.5</td>\n",
       "      <td>17.4</td>\n",
       "      <td>186.0</td>\n",
       "      <td>3800.0</td>\n",
       "      <td>female</td>\n",
       "      <td>2007</td>\n",
       "    </tr>\n",
       "    <tr>\n",
       "      <th>2</th>\n",
       "      <td>Adelie</td>\n",
       "      <td>Torgersen</td>\n",
       "      <td>40.3</td>\n",
       "      <td>18.0</td>\n",
       "      <td>195.0</td>\n",
       "      <td>3250.0</td>\n",
       "      <td>female</td>\n",
       "      <td>2007</td>\n",
       "    </tr>\n",
       "    <tr>\n",
       "      <th>4</th>\n",
       "      <td>Adelie</td>\n",
       "      <td>Torgersen</td>\n",
       "      <td>36.7</td>\n",
       "      <td>19.3</td>\n",
       "      <td>193.0</td>\n",
       "      <td>3450.0</td>\n",
       "      <td>female</td>\n",
       "      <td>2007</td>\n",
       "    </tr>\n",
       "    <tr>\n",
       "      <th>5</th>\n",
       "      <td>Adelie</td>\n",
       "      <td>Torgersen</td>\n",
       "      <td>39.3</td>\n",
       "      <td>20.6</td>\n",
       "      <td>190.0</td>\n",
       "      <td>3650.0</td>\n",
       "      <td>male</td>\n",
       "      <td>2007</td>\n",
       "    </tr>\n",
       "  </tbody>\n",
       "</table>\n",
       "</div>"
      ],
      "text/plain": [
       "  species     island  bill_length_mm  bill_depth_mm  flipper_length_mm  \\\n",
       "0  Adelie  Torgersen            39.1           18.7              181.0   \n",
       "1  Adelie  Torgersen            39.5           17.4              186.0   \n",
       "2  Adelie  Torgersen            40.3           18.0              195.0   \n",
       "4  Adelie  Torgersen            36.7           19.3              193.0   \n",
       "5  Adelie  Torgersen            39.3           20.6              190.0   \n",
       "\n",
       "   body_mass_g     sex  year  \n",
       "0       3750.0    male  2007  \n",
       "1       3800.0  female  2007  \n",
       "2       3250.0  female  2007  \n",
       "4       3450.0  female  2007  \n",
       "5       3650.0    male  2007  "
      ]
     },
     "execution_count": 4,
     "metadata": {},
     "output_type": "execute_result"
    }
   ],
   "source": [
    "penguins = load_penguins()\n",
    "penguins = penguins.dropna()\n",
    "penguins.head()"
   ]
  },
  {
   "cell_type": "markdown",
   "metadata": {
    "id": "CXmaqajAchqz"
   },
   "source": [
    "Let's use the other variables to predict `bill_depth_mm`. Prepare your data and fit the following models on the entire dataset:\n",
    "\n",
    "* Your best multiple linear regression model from before\n",
    "* Two kNN models (for different values of K) or different features\n",
    "* A decision tree model\n",
    "\n",
    "Create a plot like the right plot of Fig 1. in our `Model Validation` chapter with the training and test error plotted for each of your four models.\n",
    "\n",
    "Which of your models was best?"
   ]
  },
  {
   "cell_type": "code",
   "execution_count": 5,
   "metadata": {
    "id": "GeySEPNeKDjs"
   },
   "outputs": [],
   "source": [
    "#MODEL 1\n",
    "\n",
    "#creating the target and the predictor variables\n",
    "X= penguins.drop(['bill_depth_mm'], axis=1)\n",
    "y= penguins['bill_depth_mm']\n",
    "\n",
    "X_train, X_test, y_train, y_test = train_test_split(X, y, test_size=0.25, random_state = 87)"
   ]
  },
  {
   "cell_type": "markdown",
   "metadata": {
    "id": "FznO44BxHAG-"
   },
   "source": [
    "# Best Multiple Linear Regression Model from Before"
   ]
  },
  {
   "cell_type": "code",
   "execution_count": 6,
   "metadata": {
    "colab": {
     "base_uri": "https://localhost:8080/",
     "height": 80
    },
    "id": "GFNto6BKLuH2",
    "outputId": "55f50ee2-e062-47a8-b3d7-3cf34a647da4"
   },
   "outputs": [
    {
     "data": {
      "text/html": [
       "<div>\n",
       "<style scoped>\n",
       "    .dataframe tbody tr th:only-of-type {\n",
       "        vertical-align: middle;\n",
       "    }\n",
       "\n",
       "    .dataframe tbody tr th {\n",
       "        vertical-align: top;\n",
       "    }\n",
       "\n",
       "    .dataframe thead th {\n",
       "        text-align: right;\n",
       "    }\n",
       "</style>\n",
       "<table border=\"1\" class=\"dataframe\">\n",
       "  <thead>\n",
       "    <tr style=\"text-align: right;\">\n",
       "      <th></th>\n",
       "      <th>species</th>\n",
       "      <th>island</th>\n",
       "      <th>bill_length_mm</th>\n",
       "      <th>bill_depth_mm</th>\n",
       "      <th>flipper_length_mm</th>\n",
       "      <th>body_mass_g</th>\n",
       "      <th>sex</th>\n",
       "      <th>year</th>\n",
       "    </tr>\n",
       "  </thead>\n",
       "  <tbody>\n",
       "    <tr>\n",
       "      <th>0</th>\n",
       "      <td>Adelie</td>\n",
       "      <td>Torgersen</td>\n",
       "      <td>39.1</td>\n",
       "      <td>18.7</td>\n",
       "      <td>181.0</td>\n",
       "      <td>3750.0</td>\n",
       "      <td>male</td>\n",
       "      <td>2007</td>\n",
       "    </tr>\n",
       "  </tbody>\n",
       "</table>\n",
       "</div>"
      ],
      "text/plain": [
       "  species     island  bill_length_mm  bill_depth_mm  flipper_length_mm  \\\n",
       "0  Adelie  Torgersen            39.1           18.7              181.0   \n",
       "\n",
       "   body_mass_g   sex  year  \n",
       "0       3750.0  male  2007  "
      ]
     },
     "execution_count": 6,
     "metadata": {},
     "output_type": "execute_result"
    }
   ],
   "source": [
    "penguins[0:1]"
   ]
  },
  {
   "cell_type": "code",
   "execution_count": 7,
   "metadata": {
    "colab": {
     "base_uri": "https://localhost:8080/"
    },
    "id": "CCJ6vV62HHNx",
    "outputId": "e9458657-3263-4756-bdbf-e03ef8cd1ce8"
   },
   "outputs": [
    {
     "name": "stdout",
     "output_type": "stream",
     "text": [
      "Mean Squared Error (MSE) Test Data: 0.5564994954807096\n",
      "Mean Squared Error (MSE) Training Data: 0.6409391752966961\n",
      "Number of features: 11\n"
     ]
    }
   ],
   "source": [
    "# Model 1 Multiple Regression\n",
    "\n",
    "#Preprocessor as a column transformer that dumifies, standardizes.\n",
    "ct = ColumnTransformer(\n",
    "  [\n",
    "    (\"dummify\", OneHotEncoder(), [\"species\",\"island\",\"sex\"]),\n",
    "    (\"standardize\", StandardScaler(), [\"bill_length_mm\", \"flipper_length_mm\", \"body_mass_g\"])\n",
    "  ],\n",
    "  remainder = \"drop\"\n",
    ")\n",
    "\n",
    "#putting the preprocessor and model spec in the pipeline creation\n",
    "model_1_pipeline = Pipeline(\n",
    "  [(\"preprocessing\", ct),\n",
    "  (\"linear_regression\", LinearRegression())]\n",
    ")\n",
    "\n",
    "#fitting the model on test set\n",
    "model_1 = model_1_pipeline.fit(X_train, y_train)\n",
    "model_1\n",
    "\n",
    "#predictions for the test data\n",
    "model_1_test_pred = model_1.predict(X_test)\n",
    "\n",
    "#predictions for the training data\n",
    "model_1_train_pred = model_1.predict(X_train)\n",
    "\n",
    "# getting the mse_test\n",
    "model_1_mse_test = mean_squared_error(y_test, model_1_test_pred)\n",
    "print(f\"Mean Squared Error (MSE) Test Data: {model_1_mse_test}\")\n",
    "\n",
    "# getting the mse_train\n",
    "model_1_mse_train = mean_squared_error(y_train, model_1_train_pred)\n",
    "print(f\"Mean Squared Error (MSE) Training Data: {model_1_mse_train}\")\n",
    "\n",
    "# number of features for model 1\n",
    "features_model_1 = len(ct.get_feature_names_out())\n",
    "print(f\"Number of features: {features_model_1}\")"
   ]
  },
  {
   "cell_type": "markdown",
   "metadata": {
    "id": "Z07kVIMmNaJj"
   },
   "source": [
    "# KNN with K=30"
   ]
  },
  {
   "cell_type": "code",
   "execution_count": 8,
   "metadata": {
    "colab": {
     "base_uri": "https://localhost:8080/"
    },
    "id": "CKvF0tObD9u2",
    "outputId": "493ad298-3b1f-4b4c-d54c-7390f6d49dc2"
   },
   "outputs": [
    {
     "name": "stdout",
     "output_type": "stream",
     "text": [
      "Mean Squared Error (MSE) Test Data: 0.6553317460317458\n",
      "Mean Squared Error (MSE) Training Data: 0.6729900044622936\n",
      "Number of features: 8\n"
     ]
    }
   ],
   "source": [
    "#Model Specification\n",
    "knn = KNeighborsRegressor(n_neighbors=30)\n",
    "\n",
    "#Preprocessor as a column transformer that dumifies, standardizes.\n",
    "ct = ColumnTransformer(\n",
    "  [\n",
    "    (\"dummify\", OneHotEncoder(), [\"species\",\"sex\"]),\n",
    "    (\"standardize\", StandardScaler(), [\"bill_length_mm\",\"flipper_length_mm\",\"body_mass_g\"])\n",
    "  ],\n",
    "  remainder = \"drop\"\n",
    ")\n",
    "\n",
    "#putting the preprocessor and model spec in the pipeline creation\n",
    "model_2_pipeline = Pipeline(\n",
    "  [(\"preprocessing\", ct),\n",
    "  (\"knn_regression\", knn)]\n",
    ")\n",
    "\n",
    "#fitting the model on test set\n",
    "model_2 = model_2_pipeline.fit(X_train, y_train)\n",
    "model_2\n",
    "\n",
    "#predictions for the test data\n",
    "model_2_test_pred = model_2.predict(X_test)\n",
    "\n",
    "#predictions for the training data\n",
    "model_2_train_pred = model_2.predict(X_train)\n",
    "\n",
    "# getting the mse_test\n",
    "model_2_mse_test = mean_squared_error(y_test, model_2_test_pred)\n",
    "print(f\"Mean Squared Error (MSE) Test Data: {model_2_mse_test}\")\n",
    "\n",
    "# getting the mse_train\n",
    "model_2_mse_train = mean_squared_error(y_train, model_2_train_pred)\n",
    "print(f\"Mean Squared Error (MSE) Training Data: {model_2_mse_train}\")\n",
    "\n",
    "# number of features for model 2\n",
    "features_model_2 = len(ct.get_feature_names_out())\n",
    "print(f\"Number of features: {features_model_2}\")"
   ]
  },
  {
   "cell_type": "markdown",
   "metadata": {
    "id": "VQF0ZP_9Qq_u"
   },
   "source": [
    "# KNN with K=7"
   ]
  },
  {
   "cell_type": "code",
   "execution_count": 9,
   "metadata": {
    "colab": {
     "base_uri": "https://localhost:8080/"
    },
    "id": "X0zdYjxGQUXQ",
    "outputId": "fcfa6905-eca8-420e-9f41-f31b251f61a5"
   },
   "outputs": [
    {
     "name": "stdout",
     "output_type": "stream",
     "text": [
      "Mean Squared Error (MSE) Test Data: 0.5301214771622936\n",
      "Mean Squared Error (MSE) Training Data: 0.5892090812228504\n",
      "Number of features: 7\n"
     ]
    }
   ],
   "source": [
    "#Model Specification\n",
    "knn = KNeighborsRegressor(n_neighbors=7)\n",
    "\n",
    "#Preprocessor as a column transformer that dumifies, standardizes.\n",
    "ct = ColumnTransformer(\n",
    "  [\n",
    "    (\"dummify\", OneHotEncoder(), [\"species\",\"sex\"]),\n",
    "    (\"standardize\", StandardScaler(), [\"bill_length_mm\",\"flipper_length_mm\"])\n",
    "  ],\n",
    "  remainder = \"drop\"\n",
    ")\n",
    "\n",
    "#putting the preprocessor and model spec in the pipeline creation\n",
    "model_3_pipeline = Pipeline(\n",
    "  [(\"preprocessing\", ct),\n",
    "  (\"knn_regression\", knn)]\n",
    ")\n",
    "\n",
    "#fitting the model on test set\n",
    "model_3 = model_3_pipeline.fit(X_train, y_train)\n",
    "model_3\n",
    "\n",
    "#predictions for the test data\n",
    "model_3_test_pred = model_3.predict(X_test)\n",
    "\n",
    "#predictions for the training data\n",
    "model_3_train_pred = model_3.predict(X_train)\n",
    "\n",
    "# getting the mse_test\n",
    "model_3_mse_test = mean_squared_error(y_test, model_3_test_pred)\n",
    "print(f\"Mean Squared Error (MSE) Test Data: {model_3_mse_test}\")\n",
    "\n",
    "# getting the mse_train\n",
    "model_3_mse_train = mean_squared_error(y_train, model_3_train_pred)\n",
    "print(f\"Mean Squared Error (MSE) Training Data: {model_3_mse_train}\")\n",
    "\n",
    "# number of features for model 3\n",
    "features_model_3 = len(ct.get_feature_names_out())\n",
    "print(f\"Number of features: {features_model_3}\")"
   ]
  },
  {
   "cell_type": "markdown",
   "metadata": {
    "id": "VOdRAdV1RQjo"
   },
   "source": [
    "# Decision Tree Regressor alpha = .5"
   ]
  },
  {
   "cell_type": "code",
   "execution_count": 10,
   "metadata": {
    "colab": {
     "base_uri": "https://localhost:8080/"
    },
    "id": "lPyRbGQ3Q8aA",
    "outputId": "ce2ed022-5c1c-4739-d490-296c9545bc50"
   },
   "outputs": [
    {
     "name": "stdout",
     "output_type": "stream",
     "text": [
      "Mean Squared Error (MSE) Test Data: 0.787351127752493\n",
      "Mean Squared Error (MSE) Training Data: 0.9151258021650229\n",
      "Number of features: 11\n"
     ]
    }
   ],
   "source": [
    "#model specification\n",
    "dt = DecisionTreeRegressor(ccp_alpha=.3)\n",
    "\n",
    "#Preprocessor as a column transformer that dumifies, standardizes.\n",
    "ct = ColumnTransformer(\n",
    "  [\n",
    "    (\"dummify\", OneHotEncoder(), [\"species\",\"island\",\"sex\"]),\n",
    "    (\"standardize\", StandardScaler(), [\"bill_length_mm\", \"bill_length_mm\", \"body_mass_g\"])\n",
    "  ],\n",
    "  remainder = \"drop\"\n",
    ")\n",
    "\n",
    "#putting the preprocessor and model spec in the pipeline creation\n",
    "model_4_pipeline = Pipeline(\n",
    "  [(\"preprocessing\", ct),\n",
    "  (\"dt_regression\", dt)]\n",
    ")\n",
    "\n",
    "#fitting the model on test set\n",
    "model_4 = model_4_pipeline.fit(X_train, y_train)\n",
    "model_4\n",
    "\n",
    "#predictions for the test data\n",
    "model_4_test_pred = model_4.predict(X_test)\n",
    "\n",
    "#predictions for the training data\n",
    "model_4_train_pred = model_4.predict(X_train)\n",
    "\n",
    "# getting the mse_test\n",
    "model_4_mse_test = mean_squared_error(y_test, model_4_test_pred)\n",
    "print(f\"Mean Squared Error (MSE) Test Data: {model_4_mse_test}\")\n",
    "\n",
    "# getting the mse_train\n",
    "model_4_mse_train = mean_squared_error(y_train, model_4_train_pred)\n",
    "print(f\"Mean Squared Error (MSE) Training Data: {model_4_mse_train}\")\n",
    "\n",
    "# number of features for model 3\n",
    "features_model_4 = len(ct.get_feature_names_out())\n",
    "print(f\"Number of features: {features_model_4}\")"
   ]
  },
  {
   "cell_type": "code",
   "execution_count": 11,
   "metadata": {
    "colab": {
     "base_uri": "https://localhost:8080/",
     "height": 174
    },
    "id": "nBIvmK8cRnTj",
    "outputId": "86d70ba4-2d24-452d-bd75-942f3b0a4659"
   },
   "outputs": [
    {
     "data": {
      "text/html": [
       "<div>\n",
       "<style scoped>\n",
       "    .dataframe tbody tr th:only-of-type {\n",
       "        vertical-align: middle;\n",
       "    }\n",
       "\n",
       "    .dataframe tbody tr th {\n",
       "        vertical-align: top;\n",
       "    }\n",
       "\n",
       "    .dataframe thead th {\n",
       "        text-align: right;\n",
       "    }\n",
       "</style>\n",
       "<table border=\"1\" class=\"dataframe\">\n",
       "  <thead>\n",
       "    <tr style=\"text-align: right;\">\n",
       "      <th></th>\n",
       "      <th>features</th>\n",
       "      <th>mse_test</th>\n",
       "      <th>mse_train</th>\n",
       "      <th>model</th>\n",
       "    </tr>\n",
       "  </thead>\n",
       "  <tbody>\n",
       "    <tr>\n",
       "      <th>0</th>\n",
       "      <td>11</td>\n",
       "      <td>0.556499</td>\n",
       "      <td>0.640939</td>\n",
       "      <td>model_1</td>\n",
       "    </tr>\n",
       "    <tr>\n",
       "      <th>1</th>\n",
       "      <td>8</td>\n",
       "      <td>0.655332</td>\n",
       "      <td>0.672990</td>\n",
       "      <td>model_2</td>\n",
       "    </tr>\n",
       "    <tr>\n",
       "      <th>2</th>\n",
       "      <td>7</td>\n",
       "      <td>0.530121</td>\n",
       "      <td>0.589209</td>\n",
       "      <td>model_3</td>\n",
       "    </tr>\n",
       "    <tr>\n",
       "      <th>3</th>\n",
       "      <td>11</td>\n",
       "      <td>0.787351</td>\n",
       "      <td>0.915126</td>\n",
       "      <td>model_4</td>\n",
       "    </tr>\n",
       "  </tbody>\n",
       "</table>\n",
       "</div>"
      ],
      "text/plain": [
       "   features  mse_test  mse_train    model\n",
       "0        11  0.556499   0.640939  model_1\n",
       "1         8  0.655332   0.672990  model_2\n",
       "2         7  0.530121   0.589209  model_3\n",
       "3        11  0.787351   0.915126  model_4"
      ]
     },
     "execution_count": 11,
     "metadata": {},
     "output_type": "execute_result"
    }
   ],
   "source": [
    "data = {\n",
    "    \"features\": [features_model_1, features_model_2, features_model_3, features_model_4],\n",
    "    \"mse_test\": [model_1_mse_test, model_2_mse_test, model_3_mse_test, model_4_mse_test],\n",
    "    \"mse_train\": [model_1_mse_train, model_2_mse_train, model_3_mse_train, model_4_mse_train],\n",
    "    \"model\": [\"model_1\", \"model_2\", \"model_3\", \"model_4\"]\n",
    "}\n",
    "\n",
    "metric_df = pd.DataFrame(data)\n",
    "metric_df"
   ]
  },
  {
   "cell_type": "code",
   "execution_count": 12,
   "metadata": {
    "colab": {
     "base_uri": "https://localhost:8080/",
     "height": 300
    },
    "id": "TIJnfnfgRsWa",
    "outputId": "308d1e07-0ddf-46c5-90b5-187529b3dc3b"
   },
   "outputs": [
    {
     "data": {
      "text/html": [
       "<div>\n",
       "<style scoped>\n",
       "    .dataframe tbody tr th:only-of-type {\n",
       "        vertical-align: middle;\n",
       "    }\n",
       "\n",
       "    .dataframe tbody tr th {\n",
       "        vertical-align: top;\n",
       "    }\n",
       "\n",
       "    .dataframe thead th {\n",
       "        text-align: right;\n",
       "    }\n",
       "</style>\n",
       "<table border=\"1\" class=\"dataframe\">\n",
       "  <thead>\n",
       "    <tr style=\"text-align: right;\">\n",
       "      <th></th>\n",
       "      <th>features</th>\n",
       "      <th>model</th>\n",
       "      <th>mse_type</th>\n",
       "      <th>mse_value</th>\n",
       "    </tr>\n",
       "  </thead>\n",
       "  <tbody>\n",
       "    <tr>\n",
       "      <th>0</th>\n",
       "      <td>11</td>\n",
       "      <td>model_1</td>\n",
       "      <td>mse_test</td>\n",
       "      <td>0.556499</td>\n",
       "    </tr>\n",
       "    <tr>\n",
       "      <th>1</th>\n",
       "      <td>8</td>\n",
       "      <td>model_2</td>\n",
       "      <td>mse_test</td>\n",
       "      <td>0.655332</td>\n",
       "    </tr>\n",
       "    <tr>\n",
       "      <th>2</th>\n",
       "      <td>7</td>\n",
       "      <td>model_3</td>\n",
       "      <td>mse_test</td>\n",
       "      <td>0.530121</td>\n",
       "    </tr>\n",
       "    <tr>\n",
       "      <th>3</th>\n",
       "      <td>11</td>\n",
       "      <td>model_4</td>\n",
       "      <td>mse_test</td>\n",
       "      <td>0.787351</td>\n",
       "    </tr>\n",
       "    <tr>\n",
       "      <th>4</th>\n",
       "      <td>11</td>\n",
       "      <td>model_1</td>\n",
       "      <td>mse_train</td>\n",
       "      <td>0.640939</td>\n",
       "    </tr>\n",
       "    <tr>\n",
       "      <th>5</th>\n",
       "      <td>8</td>\n",
       "      <td>model_2</td>\n",
       "      <td>mse_train</td>\n",
       "      <td>0.672990</td>\n",
       "    </tr>\n",
       "    <tr>\n",
       "      <th>6</th>\n",
       "      <td>7</td>\n",
       "      <td>model_3</td>\n",
       "      <td>mse_train</td>\n",
       "      <td>0.589209</td>\n",
       "    </tr>\n",
       "    <tr>\n",
       "      <th>7</th>\n",
       "      <td>11</td>\n",
       "      <td>model_4</td>\n",
       "      <td>mse_train</td>\n",
       "      <td>0.915126</td>\n",
       "    </tr>\n",
       "  </tbody>\n",
       "</table>\n",
       "</div>"
      ],
      "text/plain": [
       "   features    model   mse_type  mse_value\n",
       "0        11  model_1   mse_test   0.556499\n",
       "1         8  model_2   mse_test   0.655332\n",
       "2         7  model_3   mse_test   0.530121\n",
       "3        11  model_4   mse_test   0.787351\n",
       "4        11  model_1  mse_train   0.640939\n",
       "5         8  model_2  mse_train   0.672990\n",
       "6         7  model_3  mse_train   0.589209\n",
       "7        11  model_4  mse_train   0.915126"
      ]
     },
     "execution_count": 12,
     "metadata": {},
     "output_type": "execute_result"
    }
   ],
   "source": [
    "# Create a combined DataFrame with features, mse_train, mse_test, and model\n",
    "combined_df = metric_df.melt(id_vars=['features', 'model'], var_name='mse_type', value_name='mse_value')\n",
    "combined_df"
   ]
  },
  {
   "cell_type": "code",
   "execution_count": 13,
   "metadata": {
    "colab": {
     "base_uri": "https://localhost:8080/",
     "height": 515
    },
    "id": "LdYSxOE9Rt_u",
    "outputId": "bc98b0ea-2b76-4819-f0a6-f184b2351a7e"
   },
   "outputs": [
    {
     "data": {
      "image/png": "[encoded data removed]",
      "text/plain": [
       "<Figure size 640x480 with 1 Axes>"
      ]
     },
     "metadata": {
      "image/png": {
       "height": 480,
       "width": 640
      }
     },
     "output_type": "display_data"
    },
    {
     "data": {
      "text/plain": [
       "<Figure Size: (640 x 480)>"
      ]
     },
     "execution_count": 13,
     "metadata": {},
     "output_type": "execute_result"
    }
   ],
   "source": [
    "# Plotting the features and the MSE for the Models Training and Testing Scores\n",
    "(ggplot(combined_df, aes(x='features', y='mse_value', color='model'))\n",
    "+ geom_point(size = 4)\n",
    "+ labs(x='Features', y='MSE')\n",
    "+ theme_bw()\n",
    "+ theme(axis_text_x=element_text(angle=45, hjust=1))\n",
    "+ scale_y_continuous(limits=(0.25, 1), breaks=[0.25, 0.5, 0.75, 1])\n",
    "+ scale_x_continuous(limits=(7,12), breaks=[7,8,9,10,11,12])\n",
    "+ scale_color_manual(values={'model_full': 'red', 'model_1': 'blue', 'model_2': 'green', 'model_3': 'orange', 'model_4': 'purple'})\n",
    "+ guides(color=guide_legend(title=\"Model\"))\n",
    ")"
   ]
  },
  {
   "cell_type": "markdown",
   "metadata": {
    "id": "cOeLa-eYxn9q"
   },
   "source": [
    "# Which of your models was best?"
   ]
  },
  {
   "cell_type": "markdown",
   "metadata": {
    "id": "3xTNbOt5yFfR"
   },
   "source": [
    "The model with the lowest MSE while staying as close to the training data as possible when compared to the testing data for me was model_3 which was the model where I used KNN with a K=7. Notably this model had more features than the compared KNN model_2. This makes sense as there was more information to make better predictions with. However, for model_2 with K=30, the test MSE was close to the train MSE. This shows the balance between complexity where if you allow more complexity it might start to overfit the training data and not be as flexible to new data."
   ]
  }
 ],
 "metadata": {
  "colab": {
   "provenance": []
  },
  "kernelspec": {
   "display_name": "Python 3 (ipykernel)",
   "language": "python",
   "name": "python3"
  },
  "language_info": {
   "codemirror_mode": {
    "name": "ipython",
    "version": 3
   },
   "file_extension": ".py",
   "mimetype": "text/x-python",
   "name": "python",
   "nbconvert_exporter": "python",
   "pygments_lexer": "ipython3",
   "version": "3.11.4"
  }
 },
 "nbformat": 4,
 "nbformat_minor": 1
}
